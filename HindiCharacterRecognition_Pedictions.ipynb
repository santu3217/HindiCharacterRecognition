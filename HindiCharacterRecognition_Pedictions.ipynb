{
 "cells": [
  {
   "cell_type": "markdown",
   "metadata": {
    "id": "xLo5lJPlMHP8"
   },
   "source": [
    "Link to the Deployment Video:\n",
    "https://www.youtube.com/watch?v=F9q_7uqdl-c"
   ]
  },
  {
   "cell_type": "markdown",
   "metadata": {
    "id": "9H7r79I8MM1M"
   },
   "source": [
    "# Final Model Prediction"
   ]
  },
  {
   "cell_type": "code",
   "execution_count": 1,
   "metadata": {
    "id": "Idx4DrK6HMf-"
   },
   "outputs": [],
   "source": [
    "# Importing the required Libraries\n",
    "import tensorflow as tf\n",
    "import matplotlib.pyplot as plt\n",
    "import numpy as np\n",
    "import pickle\n",
    "import cv2"
   ]
  },
  {
   "cell_type": "code",
   "execution_count": 2,
   "metadata": {
    "colab": {
     "base_uri": "https://localhost:8080/",
     "height": 176
    },
    "id": "qZ40ywB6H7ks",
    "outputId": "5da2b98b-a731-4b7e-a580-5d8df1079509"
   },
   "outputs": [
    {
     "data": {
      "text/plain": [
       "<matplotlib.image.AxesImage at 0x7fd162d45110>"
      ]
     },
     "execution_count": 2,
     "metadata": {},
     "output_type": "execute_result"
    },
    {
     "data": {
      "image/png": "[encoded data removed]",
      "text/plain": [
       "<Figure size 144x144 with 1 Axes>"
      ]
     },
     "metadata": {
      "needs_background": "light"
     },
     "output_type": "display_data"
    }
   ],
   "source": [
    "# Loading the Input Image\n",
    "image = cv2.imread('/content/12628.png')\n",
    "plt.figure(figsize=(2,2))\n",
    "plt.imshow(image)"
   ]
  },
  {
   "cell_type": "code",
   "execution_count": 3,
   "metadata": {
    "id": "t9W_l0WoH_YY"
   },
   "outputs": [],
   "source": [
    "# Loading the Class names\n",
    "open_file = open(r\"/content/drive/MyDrive/HindiCharacterRecognition_Labels\", \"rb\")\n",
    "labels = pickle.load(open_file)\n",
    "open_file.close()"
   ]
  },
  {
   "cell_type": "code",
   "execution_count": 4,
   "metadata": {
    "id": "VYtXhVblLQSy"
   },
   "outputs": [],
   "source": [
    "def reshape(image):\n",
    "  if len(image.shape) >= 3:\n",
    "    image = cv2.cvtColor(image, cv2.COLOR_BGR2GRAY)\n",
    "\n",
    "  return np.expand_dims(cv2.resize(image,(32,32),interpolation=cv2.INTER_AREA),axis=[0,-1])\n",
    "\n",
    "image = reshape(image)"
   ]
  },
  {
   "cell_type": "code",
   "execution_count": 5,
   "metadata": {
    "colab": {
     "base_uri": "https://localhost:8080/"
    },
    "id": "5MzUPVgyHTKg",
    "outputId": "162e3157-a84e-4e33-fc41-23c9442ab7aa"
   },
   "outputs": [
    {
     "name": "stdout",
     "output_type": "stream",
     "text": [
      "CPU times: user 2 µs, sys: 1 µs, total: 3 µs\n",
      "Wall time: 5.25 µs\n"
     ]
    }
   ],
   "source": [
    "%time\n",
    "# Loading the TF lite model\n",
    "interpreter = tf.lite.Interpreter(model_path='/content/drive/MyDrive/TF_Lite_Model.tflite')\n",
    "input_details = interpreter.get_input_details()\n",
    "output_details = interpreter.get_output_details()\n",
    "\n",
    "# Predicting the Character for given input image\n",
    "interpreter.allocate_tensors()\n",
    "interpreter.set_tensor(input_details[0]['index'], image.astype(np.float32))\n",
    "interpreter.invoke()\n",
    "tflite_model_predictions = interpreter.get_tensor(output_details[0]['index'])\n",
    "prediction_classes = np.argmax(tflite_model_predictions, axis=1)\n",
    "prediction_classes = labels[prediction_classes[0]]"
   ]
  },
  {
   "cell_type": "code",
   "execution_count": 6,
   "metadata": {
    "colab": {
     "base_uri": "https://localhost:8080/"
    },
    "id": "3bH0GMdDHvzR",
    "outputId": "9c4e2157-4b2b-498f-d6cb-378d06002c23"
   },
   "outputs": [
    {
     "name": "stdout",
     "output_type": "stream",
     "text": [
      "The Predicted Character is \" 3 \"\n"
     ]
    }
   ],
   "source": [
    "# printing the predicted image\n",
    "print('The Predicted Character is \"', prediction_classes, '\"')"
   ]
  },
  {
   "cell_type": "code",
   "execution_count": 6,
   "metadata": {
    "id": "i4sMkPYdKGaY"
   },
   "outputs": [],
   "source": [
    ""
   ]
  }
 ],
 "metadata": {
  "colab": {
   "collapsed_sections": [],
   "name": "CS2_Final_Notebook.ipynb",
   "provenance": []
  },
  "kernelspec": {
   "display_name": "Python 3",
   "name": "python3"
  },
  "language_info": {
   "name": "python"
  }
 },
 "nbformat": 4,
 "nbformat_minor": 0
}
